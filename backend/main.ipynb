{
 "cells": [
  {
   "cell_type": "code",
   "execution_count": null,
   "metadata": {},
   "outputs": [
    {
     "ename": "",
     "evalue": "",
     "output_type": "error",
     "traceback": [
      "\u001b[1;31mFailed to start the Kernel. \n",
      "\u001b[1;31mUnable to start Kernel 'Python 3.12.0' due to a timeout waiting for the ports to get used. \n",
      "\u001b[1;31mView Jupyter <a href='command:jupyter.viewOutput'>log</a> for further details."
     ]
    }
   ],
   "source": [
    "import os\n",
    "import pandas as pd\n",
    "import matplotlib.pyplot as plt\n",
    "import seaborn as sns\n",
    "#import ace_tools as tools"
   ]
  },
  {
   "cell_type": "code",
   "execution_count": null,
   "metadata": {},
   "outputs": [],
   "source": [
    "file_path = r\"C:\\Users\\Asus\\Documents\\project 1\\backend\\healthcare-dataset-stroke-data.csv\"\n",
    "df = pd.read_csv(file_path)\n"
   ]
  },
  {
   "cell_type": "code",
   "execution_count": null,
   "metadata": {},
   "outputs": [],
   "source": [
    "df.info()"
   ]
  },
  {
   "cell_type": "code",
   "execution_count": null,
   "metadata": {},
   "outputs": [],
   "source": [
    "df.head()"
   ]
  },
  {
   "cell_type": "code",
   "execution_count": null,
   "metadata": {},
   "outputs": [],
   "source": [
    "summary_stats=df.describe()\n",
    "print(summary_stats)"
   ]
  },
  {
   "cell_type": "code",
   "execution_count": null,
   "metadata": {},
   "outputs": [],
   "source": [
    "plt.figure(figsize=(10,5))\n",
    "sns.heatmap(df.isnull(),cbar=False,cmap='viridis')\n",
    "plt.title('Missing values Heatmap')\n",
    "plt.show()"
   ]
  },
  {
   "cell_type": "code",
   "execution_count": null,
   "metadata": {},
   "outputs": [],
   "source": [
    "fig,axes=plt.subplots(2,2,figsize=(12,10))\n",
    "sns.histplot(df['age'],bins=30,kde=True,ax=axes[0,0])\n",
    "axes[0,0].set_title('age distribution')\n",
    "\n",
    "sns.histplot(df['avg_glucose_level'],bins=30,kde=True,ax=axes[0,1])\n",
    "axes[0,1].set_title('average glucose level distribution')\n",
    "\n",
    "sns.histplot(df['bmi'],bins=30,kde=True,ax=axes[1,0])\n",
    "axes[1,0].set_title('bmi distribution')\n",
    "\n",
    "sns.countplot(x=df['stroke'],ax=axes[1,1])\n",
    "axes[1,1].set_title('stroke count')\n",
    "\n",
    "plt.tight_layout()\n",
    "plt.show()"
   ]
  },
  {
   "cell_type": "code",
   "execution_count": null,
   "metadata": {},
   "outputs": [],
   "source": [
    "fig, axes = plt.subplots(1, 3, figsize=(15, 5))\n",
    "\n",
    "sns.boxplot(x='stroke', y='age', data=df, ax=axes[0])\n",
    "axes[0].set_title('Age vs Stroke')\n",
    "\n",
    "sns.boxplot(x='stroke', y='avg_glucose_level', data=df, ax=axes[1])\n",
    "axes[1].set_title('Avg Glucose Level vs Stroke')\n",
    "\n",
    "sns.boxplot(x='stroke', y='bmi', data=df, ax=axes[2])\n",
    "axes[2].set_title('BHI vs Stroke')\n",
    "\n",
    "plt.tight_layout()\n",
    "plt.show()"
   ]
  },
  {
   "cell_type": "code",
   "execution_count": null,
   "metadata": {},
   "outputs": [],
   "source": [
    "df=df.drop(\"id\",axis=1)"
   ]
  },
  {
   "cell_type": "code",
   "execution_count": null,
   "metadata": {},
   "outputs": [],
   "source": [
    "df.head()"
   ]
  },
  {
   "cell_type": "code",
   "execution_count": null,
   "metadata": {},
   "outputs": [],
   "source": [
    "categorical=[\"Hypertension\",\"HEart-diseases\",\"ever_married\",\"work_type\",\"Residence_type\",\"avg_glucose_level\",\"bmi\",\"smoking_status\",\"stroke\"]\n",
    "numerical=[\"av_glucose_level\",\"bmi\",\"age\"]"
   ]
  },
  {
   "cell_type": "code",
   "execution_count": null,
   "metadata": {},
   "outputs": [],
   "source": []
  }
 ],
 "metadata": {
  "kernelspec": {
   "display_name": "Python 3",
   "language": "python",
   "name": "python3"
  },
  "language_info": {
   "codemirror_mode": {
    "name": "ipython",
    "version": 3
   },
   "file_extension": ".py",
   "mimetype": "text/x-python",
   "name": "python",
   "nbconvert_exporter": "python",
   "pygments_lexer": "ipython3",
   "version": "3.12.0"
  }
 },
 "nbformat": 4,
 "nbformat_minor": 2
}
